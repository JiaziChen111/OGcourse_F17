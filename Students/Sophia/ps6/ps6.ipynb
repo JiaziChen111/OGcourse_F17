{
 "cells": [
  {
   "cell_type": "markdown",
   "metadata": {},
   "source": [
    "## Problem Set 6\n",
    "## MACS 40000"
   ]
  },
  {
   "cell_type": "code",
   "execution_count": 19,
   "metadata": {
    "collapsed": true
   },
   "outputs": [],
   "source": [
    "import numpy as np\n",
    "import pandas as pd\n",
    "import os\n",
    "import matplotlib.pyplot as plt\n",
    "import scipy.optimize as opt"
   ]
  },
  {
   "cell_type": "code",
   "execution_count": 20,
   "metadata": {
    "collapsed": true
   },
   "outputs": [],
   "source": [
    "df_main = pd.read_stata('p13i6.dta')\n",
    "df_summ = pd.read_stata('rscfp2013.dta')\n",
    "df = pd.concat([df_main, df_summ], axis = 1)"
   ]
  },
  {
   "cell_type": "code",
   "execution_count": 21,
   "metadata": {
    "collapsed": true
   },
   "outputs": [],
   "source": [
    "# Keep the variables and observations that we need\n",
    "df = df[['X5804', 'X5809', 'X5814', 'X5805', 'X5810', 'X5815', 'X8022', 'networth', 'wgt']]"
   ]
  },
  {
   "cell_type": "code",
   "execution_count": 22,
   "metadata": {
    "collapsed": true
   },
   "outputs": [],
   "source": [
    "# Replace the bequests received before 2011 by 0 and multiply by inflation index \n",
    "df.loc[df.X5805 < 2011, 'X5804'] = 0\n",
    "df.loc[df.X5810 < 2011, 'X5809'] = 0\n",
    "df.loc[df.X5815 < 2011, 'X5814'] = 0\n",
    "\n",
    "df.loc[df.X5805 == 2011, 'X5804'] = 0.9652 * df.loc[df.X5805 == 2011, 'X5804']\n",
    "df.loc[df.X5805 == 2012, 'X5804'] = 0.9854 * df.loc[df.X5805 == 2012, 'X5804']\n",
    "df.loc[df.X5810 == 2011, 'X5809'] = 0.9652 * df.loc[df.X5810 == 2011, 'X5809']\n",
    "df.loc[df.X5810 == 2012, 'X5809'] = 0.9854 * df.loc[df.X5810 == 2012, 'X5809']\n",
    "df.loc[df.X5815 == 2011, 'X5814'] = 0.9652 * df.loc[df.X5805 == 2011, 'X5814']\n",
    "df.loc[df.X5815 == 2012, 'X5814'] = 0.9854 * df.loc[df.X5805 == 2012, 'X5814']"
   ]
  },
  {
   "cell_type": "code",
   "execution_count": 23,
   "metadata": {},
   "outputs": [],
   "source": [
    "# Multiply by weight\n",
    "df[['X5804', 'X5809', 'X5814']].multiply(df['wgt'], axis=\"index\")\n",
    "\n",
    "# Calculate age at which bequests are received\n",
    "df['age_1'] = df['X8022'] - (2013 - df['X5805'])\n",
    "df['age_2'] = df['X8022'] - (2013 - df['X5810'])\n",
    "df['age_3'] = df['X8022'] - (2013 - df['X5815'])\n",
    "df.loc[df.age_1 < 21, 'X5804'] = 0\n",
    "df.loc[df.age_2 < 21, 'X5809'] = 0\n",
    "df.loc[df.age_2 < 21, 'X5814'] = 0"
   ]
  },
  {
   "cell_type": "code",
   "execution_count": 24,
   "metadata": {},
   "outputs": [],
   "source": [
    "# Calculate total bequests by age\n",
    "bq_tot = np.zeros(80)\n",
    "for i in range(21, 101):\n",
    "    bq_tot[i - 21] = df.loc[df['X8022'] == i, 'X5804'].sum() + df.loc[df['X8022'] == i, 'X5809'].sum() + \\\n",
    "                       df.loc[df['X8022'] == i, 'X5814'].sum()\n",
    "bq_tot /= bq_tot.sum()"
   ]
  },
  {
   "cell_type": "code",
   "execution_count": 25,
   "metadata": {},
   "outputs": [
    {
     "data": {
      "image/png": "[encoded data removed]",
      "text/plain": [
       "<matplotlib.figure.Figure at 0x110170d68>"
      ]
     },
     "metadata": {},
     "output_type": "display_data"
    }
   ],
   "source": [
    "plt.plot(np.arange(21, 101), bq_tot)\n",
    "plt.show()"
   ]
  },
  {
   "cell_type": "code",
   "execution_count": null,
   "metadata": {
    "collapsed": true
   },
   "outputs": [],
   "source": []
  }
 ],
 "metadata": {
  "kernelspec": {
   "display_name": "Python 3",
   "language": "python",
   "name": "python3"
  },
  "language_info": {
   "codemirror_mode": {
    "name": "ipython",
    "version": 3
   },
   "file_extension": ".py",
   "mimetype": "text/x-python",
   "name": "python",
   "nbconvert_exporter": "python",
   "pygments_lexer": "ipython3",
   "version": "3.6.1"
  }
 },
 "nbformat": 4,
 "nbformat_minor": 2
}
